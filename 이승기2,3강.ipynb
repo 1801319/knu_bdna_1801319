{
  "nbformat": 4,
  "nbformat_minor": 0,
  "metadata": {
    "colab": {
      "name": "이승기2,3강.ipynb",
      "provenance": [],
      "collapsed_sections": [],
      "authorship_tag": "ABX9TyOfO894SY195cyMGNY6kLTe",
      "include_colab_link": true
    },
    "kernelspec": {
      "name": "python3",
      "display_name": "Python 3"
    },
    "language_info": {
      "name": "python"
    }
  },
  "cells": [
    {
      "cell_type": "markdown",
      "metadata": {
        "id": "view-in-github",
        "colab_type": "text"
      },
      "source": [
        "<a href=\"https://colab.research.google.com/github/1801319/knu_bdna_1801319/blob/main/%EC%9D%B4%EC%8A%B9%EA%B8%B02%2C3%EA%B0%95.ipynb\" target=\"_parent\"><img src=\"https://colab.research.google.com/assets/colab-badge.svg\" alt=\"Open In Colab\"/></a>"
      ]
    },
    {
      "cell_type": "code",
      "execution_count": null,
      "metadata": {
        "colab": {
          "base_uri": "https://localhost:8080/"
        },
        "id": "exPPnO1XnaHa",
        "outputId": "6f8139eb-d846-422b-ab83-3edd51cea8d9"
      },
      "outputs": [
        {
          "output_type": "stream",
          "name": "stdout",
          "text": [
            "[1. 2. 3.]\n"
          ]
        }
      ],
      "source": [
        "import numpy as np\n",
        "a=np.array((1,2,3), dtype=float)\n",
        "print(a)"
      ]
    },
    {
      "cell_type": "code",
      "source": [
        "a=np.array([(1,2,3),(4,5,6)], dtype=float)\n",
        "print(a)"
      ],
      "metadata": {
        "colab": {
          "base_uri": "https://localhost:8080/"
        },
        "id": "VWW4R-RY0Y-0",
        "outputId": "2533a684-6de9-4ad9-c6cd-3eb66c82fa10"
      },
      "execution_count": null,
      "outputs": [
        {
          "output_type": "stream",
          "name": "stdout",
          "text": [
            "[[1. 2. 3.]\n",
            " [4. 5. 6.]]\n"
          ]
        }
      ]
    },
    {
      "cell_type": "code",
      "source": [
        "a=np.array([[[1,2,3],[4,5,6]],[[3,2,1],[4,5,6]]], dtype=float)\n",
        "print(a)"
      ],
      "metadata": {
        "colab": {
          "base_uri": "https://localhost:8080/"
        },
        "id": "gHHEu-GQ1NFT",
        "outputId": "addf0d91-db57-4553-fa23-cb14789c1d66"
      },
      "execution_count": null,
      "outputs": [
        {
          "output_type": "stream",
          "name": "stdout",
          "text": [
            "[[[1. 2. 3.]\n",
            "  [4. 5. 6.]]\n",
            "\n",
            " [[3. 2. 1.]\n",
            "  [4. 5. 6.]]]\n"
          ]
        }
      ]
    },
    {
      "cell_type": "code",
      "source": [
        "a=np.zeros((3))\n",
        "print(a)"
      ],
      "metadata": {
        "colab": {
          "base_uri": "https://localhost:8080/"
        },
        "id": "KbwL0KiF7ZYy",
        "outputId": "c76a52ab-1e36-4774-e8af-dc2eb06f2726"
      },
      "execution_count": null,
      "outputs": [
        {
          "output_type": "stream",
          "name": "stdout",
          "text": [
            "[0. 0. 0.]\n"
          ]
        }
      ]
    },
    {
      "cell_type": "code",
      "source": [
        "a=np.zeros((3,4))\n",
        "print(a)"
      ],
      "metadata": {
        "colab": {
          "base_uri": "https://localhost:8080/"
        },
        "id": "q5NxdlRX7qUa",
        "outputId": "5414efd9-1084-4992-a65c-6835ce6cf4bc"
      },
      "execution_count": null,
      "outputs": [
        {
          "output_type": "stream",
          "name": "stdout",
          "text": [
            "[[0. 0. 0. 0.]\n",
            " [0. 0. 0. 0.]\n",
            " [0. 0. 0. 0.]]\n"
          ]
        }
      ]
    },
    {
      "cell_type": "code",
      "source": [
        "a=np.zeros((3,4,2))\n",
        "print(a)"
      ],
      "metadata": {
        "colab": {
          "base_uri": "https://localhost:8080/"
        },
        "id": "jnKuLDx07uJh",
        "outputId": "259dd468-b1bf-4bbf-eb44-921d846eae5a"
      },
      "execution_count": null,
      "outputs": [
        {
          "output_type": "stream",
          "name": "stdout",
          "text": [
            "[[[0. 0.]\n",
            "  [0. 0.]\n",
            "  [0. 0.]\n",
            "  [0. 0.]]\n",
            "\n",
            " [[0. 0.]\n",
            "  [0. 0.]\n",
            "  [0. 0.]\n",
            "  [0. 0.]]\n",
            "\n",
            " [[0. 0.]\n",
            "  [0. 0.]\n",
            "  [0. 0.]\n",
            "  [0. 0.]]]\n"
          ]
        }
      ]
    },
    {
      "cell_type": "code",
      "source": [
        "a=np.full((3),4,dtype=np.int16)\n",
        "print(a)"
      ],
      "metadata": {
        "colab": {
          "base_uri": "https://localhost:8080/"
        },
        "id": "X85fH5uz72c4",
        "outputId": "943bb427-bffb-4607-f524-50fb52d5fabd"
      },
      "execution_count": null,
      "outputs": [
        {
          "output_type": "stream",
          "name": "stdout",
          "text": [
            "[4 4 4]\n"
          ]
        }
      ]
    },
    {
      "cell_type": "code",
      "source": [
        "a=np.full((3,4), -1, dtype=float)\n",
        "print(a)"
      ],
      "metadata": {
        "colab": {
          "base_uri": "https://localhost:8080/"
        },
        "id": "knZUuLxV8XP-",
        "outputId": "e876a007-f2b6-43d1-d13a-79029dbd6320"
      },
      "execution_count": null,
      "outputs": [
        {
          "output_type": "stream",
          "name": "stdout",
          "text": [
            "[[-1. -1. -1. -1.]\n",
            " [-1. -1. -1. -1.]\n",
            " [-1. -1. -1. -1.]]\n"
          ]
        }
      ]
    },
    {
      "cell_type": "code",
      "source": [
        "a=np.full((3,4), 1)\n",
        "print(a)"
      ],
      "metadata": {
        "colab": {
          "base_uri": "https://localhost:8080/"
        },
        "id": "YU_sxapw8h1i",
        "outputId": "a4ea1386-c7ec-44cb-bb0d-16575e72519c"
      },
      "execution_count": null,
      "outputs": [
        {
          "output_type": "stream",
          "name": "stdout",
          "text": [
            "[[1 1 1 1]\n",
            " [1 1 1 1]\n",
            " [1 1 1 1]]\n"
          ]
        }
      ]
    },
    {
      "cell_type": "code",
      "source": [
        "a=np.full((2,3,4),-1,dtype=float)\n",
        "print(a)"
      ],
      "metadata": {
        "id": "-gvQ0-qz8mLr",
        "colab": {
          "base_uri": "https://localhost:8080/"
        },
        "outputId": "31776c83-e319-4474-d10b-0530118c3d04"
      },
      "execution_count": null,
      "outputs": [
        {
          "output_type": "stream",
          "name": "stdout",
          "text": [
            "[[[-1. -1. -1. -1.]\n",
            "  [-1. -1. -1. -1.]\n",
            "  [-1. -1. -1. -1.]]\n",
            "\n",
            " [[-1. -1. -1. -1.]\n",
            "  [-1. -1. -1. -1.]\n",
            "  [-1. -1. -1. -1.]]]\n"
          ]
        }
      ]
    },
    {
      "cell_type": "code",
      "source": [
        "a=np.eye(5)\n",
        "print(a)"
      ],
      "metadata": {
        "colab": {
          "base_uri": "https://localhost:8080/"
        },
        "id": "NUlReCWtNLF-",
        "outputId": "c98abf19-f4d3-4c3a-e8ac-e6dab93e1ee3"
      },
      "execution_count": null,
      "outputs": [
        {
          "output_type": "stream",
          "name": "stdout",
          "text": [
            "[[1. 0. 0. 0. 0.]\n",
            " [0. 1. 0. 0. 0.]\n",
            " [0. 0. 1. 0. 0.]\n",
            " [0. 0. 0. 1. 0.]\n",
            " [0. 0. 0. 0. 1.]]\n"
          ]
        }
      ]
    },
    {
      "cell_type": "code",
      "source": [
        "a=np.array([(1,2,3),(4,5,6)])\n",
        "b=np.zeros_like(a)\n",
        "print(b)"
      ],
      "metadata": {
        "colab": {
          "base_uri": "https://localhost:8080/"
        },
        "id": "koICfjoeOMIW",
        "outputId": "77762b8f-e7b0-41fb-cf1b-bea9cd80fe9a"
      },
      "execution_count": null,
      "outputs": [
        {
          "output_type": "stream",
          "name": "stdout",
          "text": [
            "[[0 0 0]\n",
            " [0 0 0]]\n"
          ]
        }
      ]
    },
    {
      "cell_type": "code",
      "source": [
        "a=np.array([(1,2,3),(4,5,6)])\n",
        "b=np.ones_like(a)\n",
        "print(b)"
      ],
      "metadata": {
        "colab": {
          "base_uri": "https://localhost:8080/"
        },
        "id": "1cIZDvy6PAj3",
        "outputId": "11225bd7-3b2e-410a-fc50-5a1e07aa9f45"
      },
      "execution_count": null,
      "outputs": [
        {
          "output_type": "stream",
          "name": "stdout",
          "text": [
            "[[1 1 1]\n",
            " [1 1 1]]\n"
          ]
        }
      ]
    },
    {
      "cell_type": "code",
      "source": [
        "a=np.array([(1,2,3),(4,5,6)])\n",
        "b=np.full_like(a,3)\n",
        "print(b)"
      ],
      "metadata": {
        "colab": {
          "base_uri": "https://localhost:8080/"
        },
        "id": "t7mYtK3aPuAp",
        "outputId": "62fd181a-75b3-4a4f-ab18-b48433a27909"
      },
      "execution_count": null,
      "outputs": [
        {
          "output_type": "stream",
          "name": "stdout",
          "text": [
            "[[3 3 3]\n",
            " [3 3 3]]\n"
          ]
        }
      ]
    },
    {
      "cell_type": "code",
      "source": [
        "a,shape"
      ],
      "metadata": {
        "colab": {
          "base_uri": "https://localhost:8080/"
        },
        "id": "3T93U8U-QFh3",
        "outputId": "226ad97b-973c-486c-8b5b-1bc417f5a921"
      },
      "execution_count": null,
      "outputs": [
        {
          "output_type": "execute_result",
          "data": {
            "text/plain": [
              "(array([[1, 2, 3],\n",
              "        [4, 5, 6]]), <function numpy.shape>)"
            ]
          },
          "metadata": {},
          "execution_count": 21
        }
      ]
    },
    {
      "cell_type": "code",
      "source": [
        "len(a)"
      ],
      "metadata": {
        "colab": {
          "base_uri": "https://localhost:8080/"
        },
        "id": "d86t4CWZQN0m",
        "outputId": "04d7f38f-6158-4c23-f2de-3be11f6c78f4"
      },
      "execution_count": null,
      "outputs": [
        {
          "output_type": "execute_result",
          "data": {
            "text/plain": [
              "2"
            ]
          },
          "metadata": {},
          "execution_count": 22
        }
      ]
    },
    {
      "cell_type": "code",
      "source": [
        "a.ndim"
      ],
      "metadata": {
        "colab": {
          "base_uri": "https://localhost:8080/"
        },
        "id": "bIuutM3AQU4w",
        "outputId": "1aaac1a4-5fa5-4b56-a7d1-3cf165723b97"
      },
      "execution_count": null,
      "outputs": [
        {
          "output_type": "execute_result",
          "data": {
            "text/plain": [
              "2"
            ]
          },
          "metadata": {},
          "execution_count": 23
        }
      ]
    },
    {
      "cell_type": "code",
      "source": [
        "a.dtype"
      ],
      "metadata": {
        "colab": {
          "base_uri": "https://localhost:8080/"
        },
        "id": "VrJvKjadQWeR",
        "outputId": "a039e9d8-4f0a-4eb1-8d80-2a2c9c355ff6"
      },
      "execution_count": null,
      "outputs": [
        {
          "output_type": "execute_result",
          "data": {
            "text/plain": [
              "dtype('int64')"
            ]
          },
          "metadata": {},
          "execution_count": 24
        }
      ]
    },
    {
      "cell_type": "code",
      "source": [
        "a=np.linspace(2,5,5)\n",
        "print(a)"
      ],
      "metadata": {
        "colab": {
          "base_uri": "https://localhost:8080/"
        },
        "id": "9IB-kZFFQZOw",
        "outputId": "dab79938-848b-4057-c33d-106b435329cc"
      },
      "execution_count": null,
      "outputs": [
        {
          "output_type": "stream",
          "name": "stdout",
          "text": [
            "[2.   2.75 3.5  4.25 5.  ]\n"
          ]
        }
      ]
    },
    {
      "cell_type": "code",
      "source": [
        "a=np.linspace(2,6,4)\n",
        "print(a)"
      ],
      "metadata": {
        "colab": {
          "base_uri": "https://localhost:8080/"
        },
        "id": "rKYj9xlySrjS",
        "outputId": "5902b1fc-941b-40f3-9d1c-a21c0bf187db"
      },
      "execution_count": null,
      "outputs": [
        {
          "output_type": "stream",
          "name": "stdout",
          "text": [
            "[2.         3.33333333 4.66666667 6.        ]\n"
          ]
        }
      ]
    },
    {
      "cell_type": "code",
      "source": [
        "a=np.arange(0,11,2)\n",
        "print(a)"
      ],
      "metadata": {
        "colab": {
          "base_uri": "https://localhost:8080/"
        },
        "id": "LT35Qpi4Sx-_",
        "outputId": "2efb662f-7891-468f-d1c5-c6885e5a0ba8"
      },
      "execution_count": null,
      "outputs": [
        {
          "output_type": "stream",
          "name": "stdout",
          "text": [
            "[ 0  2  4  6  8 10]\n"
          ]
        }
      ]
    },
    {
      "cell_type": "code",
      "source": [
        "a=np.logspace(2,5,4)\n",
        "print(a)"
      ],
      "metadata": {
        "colab": {
          "base_uri": "https://localhost:8080/"
        },
        "id": "ahbhuSfjTMXB",
        "outputId": "20d20c9c-e4d8-4a4c-d0aa-cb073193275d"
      },
      "execution_count": null,
      "outputs": [
        {
          "output_type": "stream",
          "name": "stdout",
          "text": [
            "[   100.   1000.  10000. 100000.]\n"
          ]
        }
      ]
    },
    {
      "cell_type": "code",
      "source": [
        "a=np.arange(1,19).reshape(2,3,3)\n",
        "print(a)"
      ],
      "metadata": {
        "id": "DT5zgCdNYUd5",
        "outputId": "11855645-adbb-4cac-9a3c-7f629d6d49b3",
        "colab": {
          "base_uri": "https://localhost:8080/"
        }
      },
      "execution_count": null,
      "outputs": [
        {
          "output_type": "stream",
          "name": "stdout",
          "text": [
            "[[[ 1  2  3]\n",
            "  [ 4  5  6]\n",
            "  [ 7  8  9]]\n",
            "\n",
            " [[10 11 12]\n",
            "  [13 14 15]\n",
            "  [16 17 18]]]\n"
          ]
        }
      ]
    },
    {
      "cell_type": "code",
      "source": [
        "a=np.linspace(2,6,9).reshape(3,3)\n",
        "print(a)"
      ],
      "metadata": {
        "colab": {
          "base_uri": "https://localhost:8080/"
        },
        "id": "e8WyVvWoV1SG",
        "outputId": "c8976c86-2e67-4313-ba33-00f4a78c9de4"
      },
      "execution_count": null,
      "outputs": [
        {
          "output_type": "stream",
          "name": "stdout",
          "text": [
            "[[2.  2.5 3. ]\n",
            " [3.5 4.  4.5]\n",
            " [5.  5.5 6. ]]\n"
          ]
        }
      ]
    },
    {
      "cell_type": "code",
      "source": [
        "b=np.arange(1,10,1).reshape(3,3)\n",
        "print(b)"
      ],
      "metadata": {
        "colab": {
          "base_uri": "https://localhost:8080/"
        },
        "id": "ygy8l1GcWOyg",
        "outputId": "06fad5f7-0bca-4efb-977c-e14686042c28"
      },
      "execution_count": null,
      "outputs": [
        {
          "output_type": "stream",
          "name": "stdout",
          "text": [
            "[[1 2 3]\n",
            " [4 5 6]\n",
            " [7 8 9]]\n"
          ]
        }
      ]
    },
    {
      "cell_type": "code",
      "source": [
        "c=np.add(a,b)\n",
        "print(c)"
      ],
      "metadata": {
        "colab": {
          "base_uri": "https://localhost:8080/"
        },
        "id": "aLuKz6pXWi4l",
        "outputId": "17f06a4b-56d6-4b6d-d73f-72bf0613d9a9"
      },
      "execution_count": null,
      "outputs": [
        {
          "output_type": "stream",
          "name": "stdout",
          "text": [
            "[[ 3.   4.5  6. ]\n",
            " [ 7.5  9.  10.5]\n",
            " [12.  13.5 15. ]]\n"
          ]
        }
      ]
    },
    {
      "cell_type": "code",
      "source": [
        "d=np.subtract(a,b)\n",
        "print(d)"
      ],
      "metadata": {
        "colab": {
          "base_uri": "https://localhost:8080/"
        },
        "id": "OWhLYJl9Wllr",
        "outputId": "9dbb9c67-0872-4d58-d64c-6b02eb76ddf2"
      },
      "execution_count": null,
      "outputs": [
        {
          "output_type": "stream",
          "name": "stdout",
          "text": [
            "[[ 1.   0.5  0. ]\n",
            " [-0.5 -1.  -1.5]\n",
            " [-2.  -2.5 -3. ]]\n"
          ]
        }
      ]
    },
    {
      "cell_type": "code",
      "source": [
        "e=np.subtract(b,a)\n",
        "print(e)"
      ],
      "metadata": {
        "colab": {
          "base_uri": "https://localhost:8080/"
        },
        "id": "jmg2SyeDW6WZ",
        "outputId": "eb42deec-c73f-4ece-a70d-7dd396311927"
      },
      "execution_count": null,
      "outputs": [
        {
          "output_type": "stream",
          "name": "stdout",
          "text": [
            "[[-1.  -0.5  0. ]\n",
            " [ 0.5  1.   1.5]\n",
            " [ 2.   2.5  3. ]]\n"
          ]
        }
      ]
    },
    {
      "cell_type": "code",
      "source": [
        "f=np.multiply(a,b)\n",
        "g=np.divide(a,b)\n",
        "print(f)\n",
        "print(g)"
      ],
      "metadata": {
        "colab": {
          "base_uri": "https://localhost:8080/"
        },
        "id": "jnOeyCYVW_eB",
        "outputId": "6720e77a-9d6b-494d-964c-90b05bc522f2"
      },
      "execution_count": null,
      "outputs": [
        {
          "output_type": "stream",
          "name": "stdout",
          "text": [
            "[[ 2.  5.  9.]\n",
            " [14. 20. 27.]\n",
            " [35. 44. 54.]]\n",
            "[[2.         1.25       1.        ]\n",
            " [0.875      0.8        0.75      ]\n",
            " [0.71428571 0.6875     0.66666667]]\n"
          ]
        }
      ]
    },
    {
      "cell_type": "code",
      "source": [
        "h=np.dot(d,e)\n",
        "print(h)"
      ],
      "metadata": {
        "colab": {
          "base_uri": "https://localhost:8080/"
        },
        "id": "Wc8BPHRpXJfm",
        "outputId": "4880c23f-40cb-4535-9d9b-76025afbba13"
      },
      "execution_count": null,
      "outputs": [
        {
          "output_type": "stream",
          "name": "stdout",
          "text": [
            "[[ -0.75   0.     0.75]\n",
            " [ -3.    -4.5   -6.  ]\n",
            " [ -5.25  -9.   -12.75]]\n"
          ]
        }
      ]
    },
    {
      "cell_type": "code",
      "source": [
        "import matplotlib.pyplot as plt"
      ],
      "metadata": {
        "id": "DOf-PvJKX8CO"
      },
      "execution_count": null,
      "outputs": []
    },
    {
      "cell_type": "code",
      "source": [
        "plt.plot([1,2,3],[4.1,4.3,3.9])\n",
        "plt.xlabel('grade')\n",
        "plt.ylabel('average score')\n",
        "plt.title('study hard!!!!')\n",
        "plt.show()"
      ],
      "metadata": {
        "colab": {
          "base_uri": "https://localhost:8080/",
          "height": 295
        },
        "id": "MbMfDbCCYDv7",
        "outputId": "f3348b4d-bc93-415b-c4a5-66190e1fcab0"
      },
      "execution_count": null,
      "outputs": [
        {
          "output_type": "display_data",
          "data": {
            "text/plain": [
              "<Figure size 432x288 with 1 Axes>"
            ],
            "image/png": "[encoded data removed]"
          },
          "metadata": {
            "needs_background": "light"
          }
        }
      ]
    },
    {
      "cell_type": "code",
      "source": [
        "x=np.linspace(0,2*np.pi,100)\n",
        "y=np.sin(x)"
      ],
      "metadata": {
        "id": "SdItiFtPZ01j"
      },
      "execution_count": null,
      "outputs": []
    },
    {
      "cell_type": "code",
      "source": [
        "plt.plot(x,y)\n",
        "plt.xlabel('x-axis')\n",
        "plt.ylabel('y-axis')\n",
        "plt.title('Sin(x)')\n",
        "plt.show()"
      ],
      "metadata": {
        "colab": {
          "base_uri": "https://localhost:8080/",
          "height": 295
        },
        "id": "tgg5ecfjuimO",
        "outputId": "46b1238c-7301-46d4-9c88-9f14672712ef"
      },
      "execution_count": null,
      "outputs": [
        {
          "output_type": "display_data",
          "data": {
            "text/plain": [
              "<Figure size 432x288 with 1 Axes>"
            ],
            "image/png": "[encoded data removed]"
          },
          "metadata": {
            "needs_background": "light"
          }
        }
      ]
    },
    {
      "cell_type": "code",
      "source": [
        "x=np.linspace(0,2*np.pi,100)\n",
        "y=np.sin(x)+np.cos(x)+10"
      ],
      "metadata": {
        "id": "GpifM39hvWmW"
      },
      "execution_count": null,
      "outputs": []
    },
    {
      "cell_type": "code",
      "source": [
        "plt.plot(x,y)\n",
        "plt.xlabel('x-axis')\n",
        "plt.ylabel('y-axis')\n",
        "plt.title('Sin(x)')\n",
        "plt.show()"
      ],
      "metadata": {
        "colab": {
          "base_uri": "https://localhost:8080/",
          "height": 295
        },
        "id": "P1oiNv8C1iTo",
        "outputId": "68d7118e-82eb-4afd-a06e-eeb790c5052d"
      },
      "execution_count": null,
      "outputs": [
        {
          "output_type": "display_data",
          "data": {
            "text/plain": [
              "<Figure size 432x288 with 1 Axes>"
            ],
            "image/png": "[encoded data removed]"
          },
          "metadata": {
            "needs_background": "light"
          }
        }
      ]
    },
    {
      "cell_type": "code",
      "source": [
        "x=np.linspace(0,2*np.pi,10)\n",
        "y1=np.sin(x)\n",
        "y2=np.sin(x)+np.cos(x)"
      ],
      "metadata": {
        "id": "cuL9gYQa1joK"
      },
      "execution_count": null,
      "outputs": []
    },
    {
      "cell_type": "code",
      "source": [
        "plt.plot(x,y1,'bo--',x,y2,'c<-')\n",
        "plt.xticks([0,np.pi,2*np.pi])\n",
        "plt.yticks([-1,0,1])\n",
        "plt.xlabel('x-axis')\n",
        "plt.ylabel('y-axis')\n",
        "plt.title('Two functions')\n",
        "plt.legend(['sin(x)','sin(x)+cos(x)'])\n",
        "\n",
        "plt.show()"
      ],
      "metadata": {
        "colab": {
          "base_uri": "https://localhost:8080/",
          "height": 295
        },
        "id": "7KXqduhO2Wfc",
        "outputId": "4dac617d-2e65-475d-a488-97f2b65a75a6"
      },
      "execution_count": null,
      "outputs": [
        {
          "output_type": "display_data",
          "data": {
            "text/plain": [
              "<Figure size 432x288 with 1 Axes>"
            ],
            "image/png": "[encoded data removed]"
          },
          "metadata": {
            "needs_background": "light"
          }
        }
      ]
    },
    {
      "cell_type": "code",
      "source": [
        "x=np.array(['KOREA','US','INDIA','JAPAN'])\n",
        "y=np.array([187213,8063,1270,43220])"
      ],
      "metadata": {
        "id": "GMYIJp9w2mAW"
      },
      "execution_count": null,
      "outputs": []
    },
    {
      "cell_type": "code",
      "source": [
        "plt.bar(x,y)\n",
        "plt.xlabel(\"country\")\n",
        "plt.ylabel('COVID infection')\n",
        "plt.title('today COVID infector')\n",
        "plt.show()"
      ],
      "metadata": {
        "colab": {
          "base_uri": "https://localhost:8080/",
          "height": 295
        },
        "id": "O8ay7xQb9WbG",
        "outputId": "a30c5778-c90a-4e3b-dfa7-81c300abbbdb"
      },
      "execution_count": null,
      "outputs": [
        {
          "output_type": "display_data",
          "data": {
            "text/plain": [
              "<Figure size 432x288 with 1 Axes>"
            ],
            "image/png": "[encoded data removed]"
          },
          "metadata": {
            "needs_background": "light"
          }
        }
      ]
    },
    {
      "cell_type": "code",
      "source": [
        "def func(n):\n",
        "  lv=n+1\n",
        "  print(lv)\n",
        "\n",
        "func(12)"
      ],
      "metadata": {
        "colab": {
          "base_uri": "https://localhost:8080/"
        },
        "id": "r0MUvvsW9rRG",
        "outputId": "4429bad3-d755-49ae-f922-29b548a9867b"
      },
      "execution_count": null,
      "outputs": [
        {
          "output_type": "stream",
          "name": "stdout",
          "text": [
            "13\n"
          ]
        }
      ]
    },
    {
      "cell_type": "code",
      "source": [
        "print(lv)\n",
        "\n",
        "#lv는 위의 함수 안에서 정의되었기때문에 에러가 뜹니다."
      ],
      "metadata": {
        "colab": {
          "base_uri": "https://localhost:8080/",
          "height": 211
        },
        "id": "-Cv5LYAzBERY",
        "outputId": "b3400343-2752-4324-8336-4b11638f1ee3"
      },
      "execution_count": null,
      "outputs": [
        {
          "output_type": "error",
          "ename": "NameError",
          "evalue": "ignored",
          "traceback": [
            "\u001b[0;31m---------------------------------------------------------------------------\u001b[0m",
            "\u001b[0;31mNameError\u001b[0m                                 Traceback (most recent call last)",
            "\u001b[0;32m<ipython-input-90-2fd4d9e8bbb9>\u001b[0m in \u001b[0;36m<module>\u001b[0;34m()\u001b[0m\n\u001b[0;32m----> 1\u001b[0;31m \u001b[0mprint\u001b[0m\u001b[0;34m(\u001b[0m\u001b[0mlv\u001b[0m\u001b[0;34m)\u001b[0m\u001b[0;34m\u001b[0m\u001b[0;34m\u001b[0m\u001b[0m\n\u001b[0m\u001b[1;32m      2\u001b[0m \u001b[0;34m\u001b[0m\u001b[0m\n\u001b[1;32m      3\u001b[0m \u001b[0;31m#lv는 위의 함수 안에서 정의되었기때문에 에러가 뜹니다.\u001b[0m\u001b[0;34m\u001b[0m\u001b[0;34m\u001b[0m\u001b[0;34m\u001b[0m\u001b[0m\n",
            "\u001b[0;31mNameError\u001b[0m: name 'lv' is not defined"
          ]
        }
      ]
    },
    {
      "cell_type": "code",
      "source": [
        "n=10\n",
        "def func2():\n",
        "  n=0 \n",
        "  lv=n+1\n",
        "  print(lv)\n",
        "func2()"
      ],
      "metadata": {
        "colab": {
          "base_uri": "https://localhost:8080/"
        },
        "id": "Oj4QTYyABKo9",
        "outputId": "0ee2ab4f-36b5-4a79-bead-7bdb61aa1694"
      },
      "execution_count": null,
      "outputs": [
        {
          "output_type": "stream",
          "name": "stdout",
          "text": [
            "1\n"
          ]
        }
      ]
    },
    {
      "cell_type": "code",
      "source": [
        "print(n)"
      ],
      "metadata": {
        "colab": {
          "base_uri": "https://localhost:8080/"
        },
        "id": "76x9lDPpEBz2",
        "outputId": "ecd2fd4b-84d4-4ea4-fe7f-5613be0c6b56"
      },
      "execution_count": null,
      "outputs": [
        {
          "output_type": "stream",
          "name": "stdout",
          "text": [
            "10\n"
          ]
        }
      ]
    },
    {
      "cell_type": "code",
      "source": [
        "n=10\n",
        "def func2():\n",
        "  global n\n",
        "  n=0\n",
        "  lv=n+1\n",
        "  print(lv)\n",
        "func2()"
      ],
      "metadata": {
        "colab": {
          "base_uri": "https://localhost:8080/"
        },
        "id": "1SwVFC9QEDTF",
        "outputId": "1e79578a-ff33-4d00-95a9-505a1c5b60b1"
      },
      "execution_count": null,
      "outputs": [
        {
          "output_type": "stream",
          "name": "stdout",
          "text": [
            "1\n"
          ]
        }
      ]
    },
    {
      "cell_type": "code",
      "source": [
        "print(n)"
      ],
      "metadata": {
        "colab": {
          "base_uri": "https://localhost:8080/"
        },
        "id": "-S79EsN5EpUW",
        "outputId": "8139b716-b296-4901-d9e5-1dfd98cd1713"
      },
      "execution_count": null,
      "outputs": [
        {
          "output_type": "stream",
          "name": "stdout",
          "text": [
            "0\n"
          ]
        }
      ]
    },
    {
      "cell_type": "code",
      "source": [
        "this_year = 22\n",
        "fa_age = 55\n",
        "\n",
        "def next_year():\n",
        "  global fa_age\n",
        "  fa_age += 1\n",
        "  global this_year\n",
        "  this_year += 1\n",
        "\n",
        "def year():\n",
        "  return this_year\n",
        "\n",
        "def fa():\n",
        "  return fa_age"
      ],
      "metadata": {
        "id": "OCzbWD5DEqhK"
      },
      "execution_count": null,
      "outputs": []
    },
    {
      "cell_type": "code",
      "source": [
        "print(year(),'년')\n",
        "print('아빠는',fa(),'살 이십니다.')\n",
        "next_year()\n",
        "print(year(),'년')\n",
        "print('아빠는',fa(),'살 이십니다.')"
      ],
      "metadata": {
        "colab": {
          "base_uri": "https://localhost:8080/"
        },
        "id": "lWX7PLrUFL4y",
        "outputId": "c8607000-8bab-4b53-b9c4-59b861eaab51"
      },
      "execution_count": null,
      "outputs": [
        {
          "output_type": "stream",
          "name": "stdout",
          "text": [
            "22 년\n",
            "아빠는 55 살 이십니다.\n",
            "23 년\n",
            "아빠는 56 살 이십니다.\n"
          ]
        }
      ]
    },
    {
      "cell_type": "code",
      "source": [
        "class age:\n",
        "  def up_age(self):\n",
        "    self.age +=1\n",
        "  def get_age(self):\n",
        "    return self.age"
      ],
      "metadata": {
        "id": "REHqE3_LFcfq"
      },
      "execution_count": null,
      "outputs": []
    },
    {
      "cell_type": "code",
      "source": [
        "fa = age()\n",
        "fa.age=55\n",
        "print(\"아빠의 나이 : \", fa.get_age())\n",
        "print(\"1년뒤,,,\")\n",
        "fa.up_age()\n",
        "print(\"아빠의 나이 : \", fa.get_age())"
      ],
      "metadata": {
        "colab": {
          "base_uri": "https://localhost:8080/"
        },
        "id": "n__HFTfR9vCS",
        "outputId": "afb3c86c-8e7d-46b5-c9bb-4c6f35c7326e"
      },
      "execution_count": null,
      "outputs": [
        {
          "output_type": "stream",
          "name": "stdout",
          "text": [
            "아빠의 나이 :  55\n",
            "1년뒤,,,\n",
            "아빠의 나이 :  56\n"
          ]
        }
      ]
    },
    {
      "cell_type": "code",
      "source": [
        "fa = age()\n",
        "mo = age()\n",
        "me = age()\n",
        "fa.age=55\n",
        "mo.age=58\n",
        "me.age=24\n",
        "print(\"아빠의 나이 : \", fa.get_age())\n",
        "print(\"엄마의 나이 : \", mo.get_age())\n",
        "print(\"내 나이 : \", me.get_age())\n",
        "\n",
        "print(\"1년 뒤...\")\n",
        "fa.up_age()\n",
        "mo.up_age()\n",
        "me.up_age()\n",
        "\n",
        "print(\"아빠의 나이 : \", fa.get_age())\n",
        "print(\"엄마의 나이 : \", mo.get_age())\n",
        "print(\"내 나이 : \", me.get_age())"
      ],
      "metadata": {
        "colab": {
          "base_uri": "https://localhost:8080/"
        },
        "id": "2Ie3ogvl-g_h",
        "outputId": "834b932e-83cc-453d-e733-bf5e7c477964"
      },
      "execution_count": null,
      "outputs": [
        {
          "output_type": "stream",
          "name": "stdout",
          "text": [
            "아빠의 나이 :  55\n",
            "엄마의 나이 :  58\n",
            "내 나이 :  24\n",
            "1년 뒤...\n",
            "아빠의 나이 :  56\n",
            "엄마의 나이 :  59\n",
            "내 나이 :  25\n"
          ]
        }
      ]
    },
    {
      "cell_type": "code",
      "source": [
        "import math\n",
        "import matplotlib.pyplot as plt\n",
        "class sin_graph:\n",
        "  def generate_x_y(self):\n",
        "    self.x=[]\n",
        "    self.y=[]\n",
        "    self.dx=(self.end-self.st)/(self.n-1)\n",
        "    for i in range(self.n):\n",
        "      x_=self.st + self.dx*i\n",
        "      self.x.append(x_)\n",
        "      self.y.append(math.sin(x_))\n",
        "  def plot(self):\n",
        "    plt.plot(self.x,self.y)\n",
        "    plt.show()"
      ],
      "metadata": {
        "id": "XKac2saa_gts"
      },
      "execution_count": null,
      "outputs": []
    },
    {
      "cell_type": "code",
      "source": [
        "g1=sin_graph()\n",
        "g1.st=0\n",
        "g1.end=2*math.pi\n",
        "g1.n=10"
      ],
      "metadata": {
        "id": "JsqTxlRJkOjt"
      },
      "execution_count": null,
      "outputs": []
    },
    {
      "cell_type": "code",
      "source": [
        "g1.generate_x_y()\n",
        "g1.plot()"
      ],
      "metadata": {
        "colab": {
          "base_uri": "https://localhost:8080/",
          "height": 265
        },
        "id": "A1T4WR2-kyLD",
        "outputId": "e2fd47f0-7839-444b-c922-3279a3a015ea"
      },
      "execution_count": null,
      "outputs": [
        {
          "output_type": "display_data",
          "data": {
            "text/plain": [
              "<Figure size 432x288 with 1 Axes>"
            ],
            "image/png": "[encoded data removed]"
          },
          "metadata": {
            "needs_background": "light"
          }
        }
      ]
    },
    {
      "cell_type": "code",
      "source": [
        "class sin_graph:\n",
        "  def setting(self, st, ed, n):\n",
        "    self.st=st\n",
        "    self.ed=ed\n",
        "    self.n=n\n",
        "  def generate_x_y(self):\n",
        "    self.x=[]\n",
        "    self.y=[]\n",
        "    self.dx=(self.ed-self.st)/(self.n-1)\n",
        "    for i in range(self.n):\n",
        "      x=self.st + self.dx*i\n",
        "      self.x.append(x)\n",
        "      self.y.append(math.sin(x))\n",
        "  def plot(self):\n",
        "    plt.plot(self.x,self.y)\n",
        "    plt.show()"
      ],
      "metadata": {
        "id": "vU2ssJhXlAoc"
      },
      "execution_count": null,
      "outputs": []
    },
    {
      "cell_type": "code",
      "source": [
        "g1=sin_graph()\n",
        "g1.setting(0, 2*math.pi, 100)\n",
        "g1.generate_x_y()\n",
        "g1.plot()"
      ],
      "metadata": {
        "colab": {
          "base_uri": "https://localhost:8080/",
          "height": 265
        },
        "id": "9t2HV-nznhhk",
        "outputId": "f0c495fe-64ea-4dea-90c2-00e0d99a5309"
      },
      "execution_count": null,
      "outputs": [
        {
          "output_type": "display_data",
          "data": {
            "text/plain": [
              "<Figure size 432x288 with 1 Axes>"
            ],
            "image/png": "[encoded data removed]"
          },
          "metadata": {
            "needs_background": "light"
          }
        }
      ]
    },
    {
      "cell_type": "code",
      "source": [
        "g2=sin_graph()\n",
        "g2.setting(0, 4*math.pi, 100)\n",
        "g2.generate_x_y()\n",
        "g2.plot()"
      ],
      "metadata": {
        "colab": {
          "base_uri": "https://localhost:8080/",
          "height": 265
        },
        "id": "nTSxr_88ny8C",
        "outputId": "c01823ca-9bd5-4a17-b04b-0142f9ffc50c"
      },
      "execution_count": null,
      "outputs": [
        {
          "output_type": "display_data",
          "data": {
            "text/plain": [
              "<Figure size 432x288 with 1 Axes>"
            ],
            "image/png": "[encoded data removed]"
          },
          "metadata": {
            "needs_background": "light"
          }
        }
      ]
    },
    {
      "cell_type": "code",
      "source": [
        "class cos_graph:\n",
        "  def setting(self, st, ed, n):\n",
        "    self.st=st\n",
        "    self.ed=ed\n",
        "    self.n=n\n",
        "  def generate_x_y(self):\n",
        "    self.x=[]\n",
        "    self.y=[]\n",
        "    self.dx=(self.ed-self.st)/(self.n-1)\n",
        "    for i in range(self.n):\n",
        "      x=self.st + self.dx*i\n",
        "      self.x.append(x)\n",
        "      self.y.append(math.cos(x))\n",
        "  def plot(self):\n",
        "    plt.plot(self.x,self.y)\n",
        "    plt.show()"
      ],
      "metadata": {
        "id": "Rk4AXRM4ovTc"
      },
      "execution_count": null,
      "outputs": []
    },
    {
      "cell_type": "code",
      "source": [
        "g3=cos_graph()\n",
        "g3.setting(0, 2*math.pi, 100)\n",
        "g3.generate_x_y()\n",
        "g3.plot()"
      ],
      "metadata": {
        "colab": {
          "base_uri": "https://localhost:8080/",
          "height": 265
        },
        "id": "c5ViaQUpG5b2",
        "outputId": "b7502923-0ed0-4fa1-c015-323be78a35ef"
      },
      "execution_count": null,
      "outputs": [
        {
          "output_type": "display_data",
          "data": {
            "text/plain": [
              "<Figure size 432x288 with 1 Axes>"
            ],
            "image/png": "[encoded data removed]"
          },
          "metadata": {
            "needs_background": "light"
          }
        }
      ]
    },
    {
      "cell_type": "code",
      "source": [
        "class Const:\n",
        "  def __init__(self):\n",
        "    print(\"new~\")\n",
        "\n",
        "o1 = Const()\n",
        "o2 = Const()"
      ],
      "metadata": {
        "colab": {
          "base_uri": "https://localhost:8080/"
        },
        "id": "-0qBXqosJeMk",
        "outputId": "04d71f09-e0e9-4fb5-a476-f427d021c9d3"
      },
      "execution_count": null,
      "outputs": [
        {
          "output_type": "stream",
          "name": "stdout",
          "text": [
            "new~\n",
            "new~\n"
          ]
        }
      ]
    },
    {
      "cell_type": "code",
      "source": [
        "class Const:\n",
        "  def __init__(self,n1,n2):\n",
        "    self.n1 = n1\n",
        "    self.n2 = n2\n",
        "  def show_data(self):\n",
        "    print(self.n1, self.n2)\n",
        "\n",
        "o1 = Const(1,2)\n",
        "o2 = Const(3,4)"
      ],
      "metadata": {
        "id": "dLq2WpYtKgUQ"
      },
      "execution_count": null,
      "outputs": []
    },
    {
      "cell_type": "code",
      "source": [
        "o1.show_data()\n",
        "o2.show_data()"
      ],
      "metadata": {
        "colab": {
          "base_uri": "https://localhost:8080/"
        },
        "id": "FdWlcNnIOZ4w",
        "outputId": "249bdd2f-e047-422e-a423-b183613a8474"
      },
      "execution_count": null,
      "outputs": [
        {
          "output_type": "stream",
          "name": "stdout",
          "text": [
            "1 2\n",
            "3 4\n"
          ]
        }
      ]
    },
    {
      "cell_type": "code",
      "source": [
        "class text_static:\n",
        "  def processLine(self, line, wordCounts):\n",
        "    line = self.replacePunctuations(line)\n",
        "    words = line.split()\n",
        "    for word in words:\n",
        "      if word in wordCounts:\n",
        "        wordCounts[word] += 1\n",
        "      else:\n",
        "        wordCounts[word] = 1\n",
        "\n",
        "  def replacePunctuations(self, line):\n",
        "    for ch in line:\n",
        "      if ch in \" .,:; \":\n",
        "        line =line.replace(ch, \" \")\n",
        "    return line \n",
        "\n",
        "  def wordCount(self, filename):\n",
        "    f = open(\"I_have_a_dream.txt\",\"r\")\n",
        "    lines = f.readlines()\n",
        "    wordCounts = {}\n",
        "    for line in lines:\n",
        "      self.processLine(line.lower(), wordCounts)\n",
        "    return wordCounts\n",
        "    \n",
        "  def arrange_pairs(self, wordCounts):\n",
        "    pairs = list(wordCounts.items())\n",
        "    items = [[x,y] for (y,x) in pairs]\n",
        "    items.sort()\n",
        "    items = {x:y for [y,x] in items}\n",
        "    return items"
      ],
      "metadata": {
        "id": "T8a1kkZ4OcZu"
      },
      "execution_count": 7,
      "outputs": []
    },
    {
      "cell_type": "code",
      "source": [
        "T = text_static()\n",
        "fn=\"I_have_a_dream.txt\"\n",
        "wordCounts = T.wordCount(fn)"
      ],
      "metadata": {
        "id": "Yi4eL6SAXRro"
      },
      "execution_count": 16,
      "outputs": []
    },
    {
      "cell_type": "code",
      "source": [
        "wordCounts"
      ],
      "metadata": {
        "colab": {
          "base_uri": "https://localhost:8080/"
        },
        "id": "uNJyf9eqriiN",
        "outputId": "79cb45e9-f7fa-4a0b-83ed-2dab148f6a60"
      },
      "execution_count": 18,
      "outputs": [
        {
          "output_type": "execute_result",
          "data": {
            "text/plain": [
              "{'\"': 2,\n",
              " '\"**': 1,\n",
              " '\"1': 1,\n",
              " '\"for': 1,\n",
              " '\"insufficient': 1,\n",
              " '\"justice': 1,\n",
              " '\"life': 1,\n",
              " '\"unalienable': 1,\n",
              " '\"when': 1,\n",
              " '**we': 1,\n",
              " 'a': 22,\n",
              " 'again': 2,\n",
              " 'ago': 1,\n",
              " 'ahead': 1,\n",
              " 'all': 3,\n",
              " 'allow': 1,\n",
              " 'alone': 1,\n",
              " 'also': 1,\n",
              " 'always': 1,\n",
              " 'am': 1,\n",
              " 'america': 4,\n",
              " 'american': 3,\n",
              " 'an': 3,\n",
              " 'and': 22,\n",
              " 'architects': 1,\n",
              " 'are': 6,\n",
              " 'as': 19,\n",
              " 'asking': 1,\n",
              " 'autumn': 1,\n",
              " 'awakening': 1,\n",
              " 'back': 2,\n",
              " 'bad': 1,\n",
              " 'bank': 1,\n",
              " 'bankrupt': 1,\n",
              " 'basic': 1,\n",
              " 'be': 12,\n",
              " 'beacon': 1,\n",
              " 'been': 1,\n",
              " 'beginning': 1,\n",
              " 'believe': 2,\n",
              " 'believes': 1,\n",
              " 'bitterness': 1,\n",
              " 'black': 1,\n",
              " 'blow': 1,\n",
              " 'bodies': 1,\n",
              " 'bound': 1,\n",
              " 'bright': 1,\n",
              " 'brotherhood': 1,\n",
              " 'brothers': 1,\n",
              " 'brutality': 1,\n",
              " 'business': 1,\n",
              " 'but': 4,\n",
              " 'by': 4,\n",
              " 'came': 2,\n",
              " 'can': 3,\n",
              " 'cannot': 6,\n",
              " 'capital': 1,\n",
              " 'captivity': 1,\n",
              " 'cash': 2,\n",
              " 'chains': 1,\n",
              " 'check': 5,\n",
              " 'children': 2,\n",
              " 'cities': 1,\n",
              " 'citizens': 1,\n",
              " 'citizenship': 1,\n",
              " 'civil': 1,\n",
              " 'color': 1,\n",
              " 'come': 7,\n",
              " 'community': 1,\n",
              " 'concerned': 1,\n",
              " 'condition': 1,\n",
              " 'conduct': 1,\n",
              " 'constitution': 1,\n",
              " 'content': 1,\n",
              " 'continue': 1,\n",
              " 'cooling': 1,\n",
              " 'corners': 1,\n",
              " 'creative': 1,\n",
              " 'crippled': 1,\n",
              " 'cup': 1,\n",
              " 'dark': 1,\n",
              " 'day': 1,\n",
              " 'daybreak': 1,\n",
              " 'declaration': 1,\n",
              " 'decree': 1,\n",
              " 'deeds': 1,\n",
              " 'defaulted': 1,\n",
              " 'degenerate': 1,\n",
              " 'demand': 1,\n",
              " 'democracy': 1,\n",
              " 'demonstration': 1,\n",
              " 'desolate': 1,\n",
              " 'destiny': 2,\n",
              " 'devotees': 1,\n",
              " 'dignity': 2,\n",
              " 'discipline': 1,\n",
              " 'discontent': 1,\n",
              " 'discrimination': 1,\n",
              " 'distrust': 1,\n",
              " 'down': 2,\n",
              " 'dramatize': 1,\n",
              " 'drinking': 1,\n",
              " 'drug': 1,\n",
              " 'emancipation': 1,\n",
              " 'emerges': 1,\n",
              " 'end': 2,\n",
              " 'engage': 1,\n",
              " 'engulfed': 1,\n",
              " 'equality': 1,\n",
              " 'every': 1,\n",
              " 'evidenced': 1,\n",
              " 'exile': 1,\n",
              " 'fall': 1,\n",
              " 'fatal': 1,\n",
              " 'fatigue': 1,\n",
              " 'fierce': 1,\n",
              " 'finds': 1,\n",
              " 'five': 1,\n",
              " 'flames': 1,\n",
              " 'for': 6,\n",
              " 'force': 2,\n",
              " 'forever': 1,\n",
              " 'foundations': 1,\n",
              " 'free': 1,\n",
              " 'freedom': 6,\n",
              " 'from': 4,\n",
              " 'funds': 2,\n",
              " 'gain': 1,\n",
              " 'gaining': 1,\n",
              " 'ghetto': 1,\n",
              " 'give': 1,\n",
              " 'given': 1,\n",
              " 'go': 1,\n",
              " \"god's\": 1,\n",
              " 'gradualism': 1,\n",
              " 'granted': 1,\n",
              " 'great': 3,\n",
              " 'greatest': 1,\n",
              " 'guaranteed': 1,\n",
              " 'guilty': 1,\n",
              " 'had': 1,\n",
              " 'hallowed': 1,\n",
              " 'happiness': 1,\n",
              " 'happy': 1,\n",
              " 'has': 5,\n",
              " 'hatred': 1,\n",
              " 'have': 4,\n",
              " 'he': 1,\n",
              " 'heavy': 1,\n",
              " 'heights': 1,\n",
              " 'heir': 1,\n",
              " 'her': 1,\n",
              " 'here': 2,\n",
              " 'high': 1,\n",
              " 'highways': 1,\n",
              " 'himself': 1,\n",
              " 'his': 2,\n",
              " 'history': 2,\n",
              " 'honoring': 1,\n",
              " 'hope': 2,\n",
              " 'horrors': 1,\n",
              " 'hotels': 1,\n",
              " 'hundred': 4,\n",
              " 'i': 2,\n",
              " 'if': 1,\n",
              " 'in': 16,\n",
              " 'independence': 1,\n",
              " 'inextricably': 1,\n",
              " 'injustice': 2,\n",
              " 'insofar': 1,\n",
              " 'instead': 1,\n",
              " 'insufficient': 1,\n",
              " 'into': 2,\n",
              " 'invigorating': 1,\n",
              " 'is': 18,\n",
              " 'island': 1,\n",
              " 'it': 3,\n",
              " 'join': 1,\n",
              " 'joyous': 1,\n",
              " 'justice': 6,\n",
              " 'land': 1,\n",
              " 'languished': 1,\n",
              " 'larger': 1,\n",
              " 'later': 4,\n",
              " 'lead': 1,\n",
              " 'leads': 1,\n",
              " 'legitimate': 1,\n",
              " 'let': 1,\n",
              " 'liberty': 1,\n",
              " 'life': 1,\n",
              " 'lift': 1,\n",
              " 'light': 1,\n",
              " 'like': 2,\n",
              " 'lives': 1,\n",
              " 'lodging': 1,\n",
              " 'lonely': 1,\n",
              " 'long': 6,\n",
              " 'luxury': 1,\n",
              " 'magnificent': 1,\n",
              " 'majestic': 1,\n",
              " 'make': 3,\n",
              " 'manacles': 1,\n",
              " 'many': 1,\n",
              " 'march': 1,\n",
              " 'marked': 1,\n",
              " 'marvelous': 1,\n",
              " 'material': 1,\n",
              " 'meeting': 1,\n",
              " 'men': 3,\n",
              " 'midst': 1,\n",
              " 'mighty': 1,\n",
              " 'militancy': 1,\n",
              " 'millions': 1,\n",
              " 'mississippi': 1,\n",
              " 'mobility': 1,\n",
              " 'moment': 1,\n",
              " 'momentous': 1,\n",
              " 'motels': 1,\n",
              " 'must': 7,\n",
              " 'my': 1,\n",
              " 'nation': 6,\n",
              " \"nation's\": 1,\n",
              " 'needed': 1,\n",
              " 'negro': 12,\n",
              " \"negro's\": 2,\n",
              " 'neither': 1,\n",
              " 'never': 3,\n",
              " 'new': 2,\n",
              " 'night': 1,\n",
              " 'nineteen': 1,\n",
              " 'no': 3,\n",
              " 'nor': 1,\n",
              " 'not': 9,\n",
              " 'note': 3,\n",
              " 'nothing': 1,\n",
              " 'now': 6,\n",
              " 'obligation': 1,\n",
              " 'obvious': 1,\n",
              " 'ocean': 1,\n",
              " 'of': 56,\n",
              " 'off': 2,\n",
              " 'on': 4,\n",
              " 'one': 5,\n",
              " 'only': 1,\n",
              " 'opportunity': 1,\n",
              " 'or': 1,\n",
              " 'our': 14,\n",
              " 'overlook': 1,\n",
              " 'own': 1,\n",
              " 'palace': 1,\n",
              " 'pass': 1,\n",
              " 'path': 1,\n",
              " 'people': 3,\n",
              " 'physical': 2,\n",
              " 'place': 1,\n",
              " 'plane': 1,\n",
              " 'pledge': 1,\n",
              " 'police': 1,\n",
              " 'poverty': 1,\n",
              " 'presence': 1,\n",
              " 'process': 1,\n",
              " 'proclamation': 1,\n",
              " 'promise': 1,\n",
              " 'promises': 1,\n",
              " 'promissory': 2,\n",
              " 'prosperity': 1,\n",
              " 'protest': 1,\n",
              " 'pursuit': 1,\n",
              " 'quicksands': 1,\n",
              " 'racial': 2,\n",
              " 'real': 1,\n",
              " 'reality': 1,\n",
              " 'realize': 2,\n",
              " 'refuse': 2,\n",
              " 'remind': 1,\n",
              " 'republic': 1,\n",
              " 'rest': 1,\n",
              " 'returns': 1,\n",
              " 'revolt': 1,\n",
              " 'riches': 1,\n",
              " 'righteousness': 1,\n",
              " 'rightful': 1,\n",
              " 'rights': 2,\n",
              " 'rights\"': 1,\n",
              " 'rise': 2,\n",
              " 'robbed': 1,\n",
              " 'rock': 1,\n",
              " 'rolls': 1,\n",
              " 'rude': 1,\n",
              " 'sacred': 1,\n",
              " 'sadly': 1,\n",
              " 'satisfied': 7,\n",
              " 'satisfied?\"': 1,\n",
              " 'satisfy': 1,\n",
              " 'say': 1,\n",
              " 'score': 1,\n",
              " 'seared': 1,\n",
              " 'security': 1,\n",
              " 'seek': 1,\n",
              " 'segregation': 2,\n",
              " 'self-hood': 1,\n",
              " 'sense': 1,\n",
              " 'shadow': 1,\n",
              " 'shake': 1,\n",
              " 'shall': 1,\n",
              " 'shameful': 1,\n",
              " 'signed': 1,\n",
              " 'signing': 1,\n",
              " 'signs': 1,\n",
              " 'sixty-three': 1,\n",
              " 'slaves': 1,\n",
              " 'smaller': 1,\n",
              " 'so': 2,\n",
              " 'society': 1,\n",
              " 'solid': 1,\n",
              " 'something': 1,\n",
              " 'soul': 1,\n",
              " 'spot': 1,\n",
              " 'stand': 2,\n",
              " 'stating': 1,\n",
              " 'steam': 1,\n",
              " 'still': 3,\n",
              " 'stream': 1,\n",
              " 'stripped': 1,\n",
              " 'struggle': 1,\n",
              " 'summer': 1,\n",
              " 'sunlit': 1,\n",
              " 'sweltering': 1,\n",
              " 'symbolic': 1,\n",
              " 'take': 1,\n",
              " 'that': 10,\n",
              " 'the': 66,\n",
              " 'their': 6,\n",
              " 'there': 5,\n",
              " 'they': 2,\n",
              " 'thirst': 1,\n",
              " 'this': 9,\n",
              " 'those': 2,\n",
              " 'threshold': 1,\n",
              " 'tied': 1,\n",
              " 'time': 5,\n",
              " 'to': 35,\n",
              " 'today': 5,\n",
              " 'tranquility': 1,\n",
              " 'tranquilizing': 1,\n",
              " 'travel': 1,\n",
              " 'turn': 1,\n",
              " 'unspeakable': 1,\n",
              " 'until': 4,\n",
              " 'up': 1,\n",
              " 'upon': 1,\n",
              " 'urgency': 2,\n",
              " 'us': 3,\n",
              " 'usual': 1,\n",
              " 'valley': 1,\n",
              " 'vast': 1,\n",
              " 'vaults': 1,\n",
              " 'victim': 1,\n",
              " 'violence': 1,\n",
              " 'vote': 2,\n",
              " 'walk': 2,\n",
              " 'warm': 1,\n",
              " 'was': 2,\n",
              " 'waters': 1,\n",
              " 'we': 19,\n",
              " \"we've\": 3,\n",
              " 'well': 1,\n",
              " 'were': 1,\n",
              " 'what': 1,\n",
              " 'when': 1,\n",
              " 'which': 5,\n",
              " 'whirlwinds': 1,\n",
              " 'white': 3,\n",
              " 'whites': 1,\n",
              " 'who': 4,\n",
              " 'whose': 1,\n",
              " 'will': 9,\n",
              " 'with': 4,\n",
              " 'withering': 1,\n",
              " 'words': 1,\n",
              " 'would': 2,\n",
              " 'wrongful': 1,\n",
              " 'wrote': 1,\n",
              " 'years': 5,\n",
              " 'yes': 1,\n",
              " 'york': 1,\n",
              " 'you': 2}"
            ]
          },
          "metadata": {},
          "execution_count": 18
        }
      ]
    },
    {
      "cell_type": "code",
      "source": [
        "wordCounts = T.arrange_pairs(wordCounts)"
      ],
      "metadata": {
        "id": "b2vaY6IcsP8Y"
      },
      "execution_count": 20,
      "outputs": []
    },
    {
      "cell_type": "code",
      "source": [
        "wordCounts"
      ],
      "metadata": {
        "colab": {
          "base_uri": "https://localhost:8080/"
        },
        "id": "Bd2R8JFDsZI1",
        "outputId": "1d255eee-0030-4c0a-a407-b4ca62953be1"
      },
      "execution_count": 21,
      "outputs": [
        {
          "output_type": "execute_result",
          "data": {
            "text/plain": [
              "{'\"': 2,\n",
              " '\"**': 1,\n",
              " '\"1': 1,\n",
              " '\"for': 1,\n",
              " '\"insufficient': 1,\n",
              " '\"justice': 1,\n",
              " '\"life': 1,\n",
              " '\"unalienable': 1,\n",
              " '\"when': 1,\n",
              " '**we': 1,\n",
              " 'a': 22,\n",
              " 'again': 2,\n",
              " 'ago': 1,\n",
              " 'ahead': 1,\n",
              " 'all': 3,\n",
              " 'allow': 1,\n",
              " 'alone': 1,\n",
              " 'also': 1,\n",
              " 'always': 1,\n",
              " 'am': 1,\n",
              " 'america': 4,\n",
              " 'american': 3,\n",
              " 'an': 3,\n",
              " 'and': 22,\n",
              " 'architects': 1,\n",
              " 'are': 6,\n",
              " 'as': 19,\n",
              " 'asking': 1,\n",
              " 'autumn': 1,\n",
              " 'awakening': 1,\n",
              " 'back': 2,\n",
              " 'bad': 1,\n",
              " 'bank': 1,\n",
              " 'bankrupt': 1,\n",
              " 'basic': 1,\n",
              " 'be': 12,\n",
              " 'beacon': 1,\n",
              " 'been': 1,\n",
              " 'beginning': 1,\n",
              " 'believe': 2,\n",
              " 'believes': 1,\n",
              " 'bitterness': 1,\n",
              " 'black': 1,\n",
              " 'blow': 1,\n",
              " 'bodies': 1,\n",
              " 'bound': 1,\n",
              " 'bright': 1,\n",
              " 'brotherhood': 1,\n",
              " 'brothers': 1,\n",
              " 'brutality': 1,\n",
              " 'business': 1,\n",
              " 'but': 4,\n",
              " 'by': 4,\n",
              " 'came': 2,\n",
              " 'can': 3,\n",
              " 'cannot': 6,\n",
              " 'capital': 1,\n",
              " 'captivity': 1,\n",
              " 'cash': 2,\n",
              " 'chains': 1,\n",
              " 'check': 5,\n",
              " 'children': 2,\n",
              " 'cities': 1,\n",
              " 'citizens': 1,\n",
              " 'citizenship': 1,\n",
              " 'civil': 1,\n",
              " 'color': 1,\n",
              " 'come': 7,\n",
              " 'community': 1,\n",
              " 'concerned': 1,\n",
              " 'condition': 1,\n",
              " 'conduct': 1,\n",
              " 'constitution': 1,\n",
              " 'content': 1,\n",
              " 'continue': 1,\n",
              " 'cooling': 1,\n",
              " 'corners': 1,\n",
              " 'creative': 1,\n",
              " 'crippled': 1,\n",
              " 'cup': 1,\n",
              " 'dark': 1,\n",
              " 'day': 1,\n",
              " 'daybreak': 1,\n",
              " 'declaration': 1,\n",
              " 'decree': 1,\n",
              " 'deeds': 1,\n",
              " 'defaulted': 1,\n",
              " 'degenerate': 1,\n",
              " 'demand': 1,\n",
              " 'democracy': 1,\n",
              " 'demonstration': 1,\n",
              " 'desolate': 1,\n",
              " 'destiny': 2,\n",
              " 'devotees': 1,\n",
              " 'dignity': 2,\n",
              " 'discipline': 1,\n",
              " 'discontent': 1,\n",
              " 'discrimination': 1,\n",
              " 'distrust': 1,\n",
              " 'down': 2,\n",
              " 'dramatize': 1,\n",
              " 'drinking': 1,\n",
              " 'drug': 1,\n",
              " 'emancipation': 1,\n",
              " 'emerges': 1,\n",
              " 'end': 2,\n",
              " 'engage': 1,\n",
              " 'engulfed': 1,\n",
              " 'equality': 1,\n",
              " 'every': 1,\n",
              " 'evidenced': 1,\n",
              " 'exile': 1,\n",
              " 'fall': 1,\n",
              " 'fatal': 1,\n",
              " 'fatigue': 1,\n",
              " 'fierce': 1,\n",
              " 'finds': 1,\n",
              " 'five': 1,\n",
              " 'flames': 1,\n",
              " 'for': 6,\n",
              " 'force': 2,\n",
              " 'forever': 1,\n",
              " 'foundations': 1,\n",
              " 'free': 1,\n",
              " 'freedom': 6,\n",
              " 'from': 4,\n",
              " 'funds': 2,\n",
              " 'gain': 1,\n",
              " 'gaining': 1,\n",
              " 'ghetto': 1,\n",
              " 'give': 1,\n",
              " 'given': 1,\n",
              " 'go': 1,\n",
              " \"god's\": 1,\n",
              " 'gradualism': 1,\n",
              " 'granted': 1,\n",
              " 'great': 3,\n",
              " 'greatest': 1,\n",
              " 'guaranteed': 1,\n",
              " 'guilty': 1,\n",
              " 'had': 1,\n",
              " 'hallowed': 1,\n",
              " 'happiness': 1,\n",
              " 'happy': 1,\n",
              " 'has': 5,\n",
              " 'hatred': 1,\n",
              " 'have': 4,\n",
              " 'he': 1,\n",
              " 'heavy': 1,\n",
              " 'heights': 1,\n",
              " 'heir': 1,\n",
              " 'her': 1,\n",
              " 'here': 2,\n",
              " 'high': 1,\n",
              " 'highways': 1,\n",
              " 'himself': 1,\n",
              " 'his': 2,\n",
              " 'history': 2,\n",
              " 'honoring': 1,\n",
              " 'hope': 2,\n",
              " 'horrors': 1,\n",
              " 'hotels': 1,\n",
              " 'hundred': 4,\n",
              " 'i': 2,\n",
              " 'if': 1,\n",
              " 'in': 16,\n",
              " 'independence': 1,\n",
              " 'inextricably': 1,\n",
              " 'injustice': 2,\n",
              " 'insofar': 1,\n",
              " 'instead': 1,\n",
              " 'insufficient': 1,\n",
              " 'into': 2,\n",
              " 'invigorating': 1,\n",
              " 'is': 18,\n",
              " 'island': 1,\n",
              " 'it': 3,\n",
              " 'join': 1,\n",
              " 'joyous': 1,\n",
              " 'justice': 6,\n",
              " 'land': 1,\n",
              " 'languished': 1,\n",
              " 'larger': 1,\n",
              " 'later': 4,\n",
              " 'lead': 1,\n",
              " 'leads': 1,\n",
              " 'legitimate': 1,\n",
              " 'let': 1,\n",
              " 'liberty': 1,\n",
              " 'life': 1,\n",
              " 'lift': 1,\n",
              " 'light': 1,\n",
              " 'like': 2,\n",
              " 'lives': 1,\n",
              " 'lodging': 1,\n",
              " 'lonely': 1,\n",
              " 'long': 6,\n",
              " 'luxury': 1,\n",
              " 'magnificent': 1,\n",
              " 'majestic': 1,\n",
              " 'make': 3,\n",
              " 'manacles': 1,\n",
              " 'many': 1,\n",
              " 'march': 1,\n",
              " 'marked': 1,\n",
              " 'marvelous': 1,\n",
              " 'material': 1,\n",
              " 'meeting': 1,\n",
              " 'men': 3,\n",
              " 'midst': 1,\n",
              " 'mighty': 1,\n",
              " 'militancy': 1,\n",
              " 'millions': 1,\n",
              " 'mississippi': 1,\n",
              " 'mobility': 1,\n",
              " 'moment': 1,\n",
              " 'momentous': 1,\n",
              " 'motels': 1,\n",
              " 'must': 7,\n",
              " 'my': 1,\n",
              " 'nation': 6,\n",
              " \"nation's\": 1,\n",
              " 'needed': 1,\n",
              " 'negro': 12,\n",
              " \"negro's\": 2,\n",
              " 'neither': 1,\n",
              " 'never': 3,\n",
              " 'new': 2,\n",
              " 'night': 1,\n",
              " 'nineteen': 1,\n",
              " 'no': 3,\n",
              " 'nor': 1,\n",
              " 'not': 9,\n",
              " 'note': 3,\n",
              " 'nothing': 1,\n",
              " 'now': 6,\n",
              " 'obligation': 1,\n",
              " 'obvious': 1,\n",
              " 'ocean': 1,\n",
              " 'of': 56,\n",
              " 'off': 2,\n",
              " 'on': 4,\n",
              " 'one': 5,\n",
              " 'only': 1,\n",
              " 'opportunity': 1,\n",
              " 'or': 1,\n",
              " 'our': 14,\n",
              " 'overlook': 1,\n",
              " 'own': 1,\n",
              " 'palace': 1,\n",
              " 'pass': 1,\n",
              " 'path': 1,\n",
              " 'people': 3,\n",
              " 'physical': 2,\n",
              " 'place': 1,\n",
              " 'plane': 1,\n",
              " 'pledge': 1,\n",
              " 'police': 1,\n",
              " 'poverty': 1,\n",
              " 'presence': 1,\n",
              " 'process': 1,\n",
              " 'proclamation': 1,\n",
              " 'promise': 1,\n",
              " 'promises': 1,\n",
              " 'promissory': 2,\n",
              " 'prosperity': 1,\n",
              " 'protest': 1,\n",
              " 'pursuit': 1,\n",
              " 'quicksands': 1,\n",
              " 'racial': 2,\n",
              " 'real': 1,\n",
              " 'reality': 1,\n",
              " 'realize': 2,\n",
              " 'refuse': 2,\n",
              " 'remind': 1,\n",
              " 'republic': 1,\n",
              " 'rest': 1,\n",
              " 'returns': 1,\n",
              " 'revolt': 1,\n",
              " 'riches': 1,\n",
              " 'righteousness': 1,\n",
              " 'rightful': 1,\n",
              " 'rights': 2,\n",
              " 'rights\"': 1,\n",
              " 'rise': 2,\n",
              " 'robbed': 1,\n",
              " 'rock': 1,\n",
              " 'rolls': 1,\n",
              " 'rude': 1,\n",
              " 'sacred': 1,\n",
              " 'sadly': 1,\n",
              " 'satisfied': 7,\n",
              " 'satisfied?\"': 1,\n",
              " 'satisfy': 1,\n",
              " 'say': 1,\n",
              " 'score': 1,\n",
              " 'seared': 1,\n",
              " 'security': 1,\n",
              " 'seek': 1,\n",
              " 'segregation': 2,\n",
              " 'self-hood': 1,\n",
              " 'sense': 1,\n",
              " 'shadow': 1,\n",
              " 'shake': 1,\n",
              " 'shall': 1,\n",
              " 'shameful': 1,\n",
              " 'signed': 1,\n",
              " 'signing': 1,\n",
              " 'signs': 1,\n",
              " 'sixty-three': 1,\n",
              " 'slaves': 1,\n",
              " 'smaller': 1,\n",
              " 'so': 2,\n",
              " 'society': 1,\n",
              " 'solid': 1,\n",
              " 'something': 1,\n",
              " 'soul': 1,\n",
              " 'spot': 1,\n",
              " 'stand': 2,\n",
              " 'stating': 1,\n",
              " 'steam': 1,\n",
              " 'still': 3,\n",
              " 'stream': 1,\n",
              " 'stripped': 1,\n",
              " 'struggle': 1,\n",
              " 'summer': 1,\n",
              " 'sunlit': 1,\n",
              " 'sweltering': 1,\n",
              " 'symbolic': 1,\n",
              " 'take': 1,\n",
              " 'that': 10,\n",
              " 'the': 66,\n",
              " 'their': 6,\n",
              " 'there': 5,\n",
              " 'they': 2,\n",
              " 'thirst': 1,\n",
              " 'this': 9,\n",
              " 'those': 2,\n",
              " 'threshold': 1,\n",
              " 'tied': 1,\n",
              " 'time': 5,\n",
              " 'to': 35,\n",
              " 'today': 5,\n",
              " 'tranquility': 1,\n",
              " 'tranquilizing': 1,\n",
              " 'travel': 1,\n",
              " 'turn': 1,\n",
              " 'unspeakable': 1,\n",
              " 'until': 4,\n",
              " 'up': 1,\n",
              " 'upon': 1,\n",
              " 'urgency': 2,\n",
              " 'us': 3,\n",
              " 'usual': 1,\n",
              " 'valley': 1,\n",
              " 'vast': 1,\n",
              " 'vaults': 1,\n",
              " 'victim': 1,\n",
              " 'violence': 1,\n",
              " 'vote': 2,\n",
              " 'walk': 2,\n",
              " 'warm': 1,\n",
              " 'was': 2,\n",
              " 'waters': 1,\n",
              " 'we': 19,\n",
              " \"we've\": 3,\n",
              " 'well': 1,\n",
              " 'were': 1,\n",
              " 'what': 1,\n",
              " 'when': 1,\n",
              " 'which': 5,\n",
              " 'whirlwinds': 1,\n",
              " 'white': 3,\n",
              " 'whites': 1,\n",
              " 'who': 4,\n",
              " 'whose': 1,\n",
              " 'will': 9,\n",
              " 'with': 4,\n",
              " 'withering': 1,\n",
              " 'words': 1,\n",
              " 'would': 2,\n",
              " 'wrongful': 1,\n",
              " 'wrote': 1,\n",
              " 'years': 5,\n",
              " 'yes': 1,\n",
              " 'york': 1,\n",
              " 'you': 2}"
            ]
          },
          "metadata": {},
          "execution_count": 21
        }
      ]
    },
    {
      "cell_type": "code",
      "source": [
        ""
      ],
      "metadata": {
        "id": "Ga8_6s8Sscir"
      },
      "execution_count": null,
      "outputs": []
    }
  ]
}