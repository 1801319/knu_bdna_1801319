{
  "nbformat": 4,
  "nbformat_minor": 0,
  "metadata": {
    "colab": {
      "name": "Untitled0.ipynb",
      "provenance": []
    },
    "kernelspec": {
      "name": "python3",
      "display_name": "Python 3"
    },
    "language_info": {
      "name": "python"
    }
  },
  "cells": [
    {
      "cell_type": "code",
      "execution_count": 2,
      "metadata": {
        "id": "JXL6L2z1DRXf"
      },
      "outputs": [],
      "source": [
        "def greet():\n",
        "  print(\"hello world\")"
      ]
    },
    {
      "cell_type": "code",
      "source": [
        "greet()"
      ],
      "metadata": {
        "colab": {
          "base_uri": "https://localhost:8080/"
        },
        "id": "bu744hHHFZkI",
        "outputId": "e1bd92be-bcc2-4550-be1a-57364fa55879"
      },
      "execution_count": 3,
      "outputs": [
        {
          "output_type": "stream",
          "name": "stdout",
          "text": [
            "hello world\n"
          ]
        }
      ]
    },
    {
      "cell_type": "code",
      "source": [
        "def seoungki():\n",
        "  print(\"hi seoungki\")"
      ],
      "metadata": {
        "id": "plxxaov8FiGg"
      },
      "execution_count": 4,
      "outputs": []
    },
    {
      "cell_type": "code",
      "source": [
        "seoungki()\n"
      ],
      "metadata": {
        "colab": {
          "base_uri": "https://localhost:8080/"
        },
        "id": "YX73FWJPFo9o",
        "outputId": "f7936c99-308a-435a-88e9-5bcd30849cea"
      },
      "execution_count": 5,
      "outputs": [
        {
          "output_type": "stream",
          "name": "stdout",
          "text": [
            "hi seoungki\n"
          ]
        }
      ]
    },
    {
      "cell_type": "code",
      "source": [
        "def math(a,b):\n",
        "  c=a+b\n",
        "  return c"
      ],
      "metadata": {
        "id": "Sd9IS2ORFqsX"
      },
      "execution_count": 12,
      "outputs": []
    },
    {
      "cell_type": "code",
      "source": [
        "math(3,5)"
      ],
      "metadata": {
        "colab": {
          "base_uri": "https://localhost:8080/"
        },
        "id": "EcdaxxuoGwYy",
        "outputId": "682cc7f8-8ae4-4612-e3c5-5e3dd283d322"
      },
      "execution_count": 13,
      "outputs": [
        {
          "output_type": "execute_result",
          "data": {
            "text/plain": [
              "8"
            ]
          },
          "metadata": {},
          "execution_count": 13
        }
      ]
    },
    {
      "cell_type": "code",
      "source": [
        "def multiply(a,b):\n",
        "  c=a*b\n",
        "  return c"
      ],
      "metadata": {
        "id": "1fRl70c3G_0Z"
      },
      "execution_count": 14,
      "outputs": []
    },
    {
      "cell_type": "code",
      "source": [
        "multiply(3,5)"
      ],
      "metadata": {
        "colab": {
          "base_uri": "https://localhost:8080/"
        },
        "id": "O9RpPHKfHSkJ",
        "outputId": "2ee1798a-1a11-400f-f14f-8d96c18f5b46"
      },
      "execution_count": 15,
      "outputs": [
        {
          "output_type": "execute_result",
          "data": {
            "text/plain": [
              "15"
            ]
          },
          "metadata": {},
          "execution_count": 15
        }
      ]
    },
    {
      "cell_type": "code",
      "source": [
        "def welcome(name):\n",
        "  print('반갑습니다',name)\n",
        "  print(name, '님의 세계에 오신것을 환영합니다')"
      ],
      "metadata": {
        "id": "-eacxsTfHVj4"
      },
      "execution_count": 19,
      "outputs": []
    },
    {
      "cell_type": "code",
      "source": [
        "welcome('이승기')"
      ],
      "metadata": {
        "colab": {
          "base_uri": "https://localhost:8080/"
        },
        "id": "P4shrz2OHnTa",
        "outputId": "82d7dab1-e696-4c7c-e7d7-81c707847491"
      },
      "execution_count": 20,
      "outputs": [
        {
          "output_type": "stream",
          "name": "stdout",
          "text": [
            "반갑습니다 이승기\n",
            "이승기 님의 세계에 오신것을 환영합니다\n"
          ]
        }
      ]
    },
    {
      "cell_type": "code",
      "source": [
        "print(add(3,5),welcome('이승기'))"
      ],
      "metadata": {
        "colab": {
          "base_uri": "https://localhost:8080/"
        },
        "id": "8wajJzavHqgB",
        "outputId": "6057fb48-1ed2-4510-9915-7dd2dfd344e0"
      },
      "execution_count": 21,
      "outputs": [
        {
          "output_type": "stream",
          "name": "stdout",
          "text": [
            "반갑습니다 이승기\n",
            "이승기 님의 세계에 오신것을 환영합니다\n",
            "8 None\n"
          ]
        }
      ]
    },
    {
      "cell_type": "code",
      "source": [
        "def hi(a,b):\n",
        "  sum=a+b\n",
        "  print('정답은',sum)\n",
        "  return sum"
      ],
      "metadata": {
        "id": "kF-2NDAcID3y"
      },
      "execution_count": 32,
      "outputs": []
    },
    {
      "cell_type": "code",
      "source": [
        "result=hi(3,5)"
      ],
      "metadata": {
        "colab": {
          "base_uri": "https://localhost:8080/"
        },
        "id": "jh2HTHLPJ2gR",
        "outputId": "936c5011-5dab-41fc-b0eb-cb01d9e896dd"
      },
      "execution_count": 34,
      "outputs": [
        {
          "output_type": "stream",
          "name": "stdout",
          "text": [
            "정답은 8\n"
          ]
        }
      ]
    },
    {
      "cell_type": "code",
      "source": [
        ""
      ],
      "metadata": {
        "id": "IZ46KpvMJ44B"
      },
      "execution_count": 37,
      "outputs": []
    },
    {
      "cell_type": "code",
      "source": [
        "sum"
      ],
      "metadata": {
        "colab": {
          "base_uri": "https://localhost:8080/"
        },
        "id": "ja1mzaM_KesC",
        "outputId": "d35de9ef-2537-498e-bcc7-97e8bd6a1891"
      },
      "execution_count": 38,
      "outputs": [
        {
          "output_type": "execute_result",
          "data": {
            "text/plain": [
              "<function sum>"
            ]
          },
          "metadata": {},
          "execution_count": 38
        }
      ]
    },
    {
      "cell_type": "code",
      "source": [
        ""
      ],
      "metadata": {
        "id": "yBVBUyHPLdZK"
      },
      "execution_count": null,
      "outputs": []
    }
  ]
}